{
 "cells": [
  {
   "cell_type": "code",
   "execution_count": 2,
   "metadata": {},
   "outputs": [],
   "source": [
    "import pandas as pd\n",
    "import numpy as np\n",
    "import matplotlib.pyplot as plt\n",
    "import seaborn as sns"
   ]
  },
  {
   "cell_type": "code",
   "execution_count": 8,
   "metadata": {},
   "outputs": [],
   "source": [
    "allKP14 = pd.read_csv(\"../data/AllTeams/KenpomStats/kenpom14.csv\")\n",
    "allKP15 = pd.read_csv(\"../data/AllTeams/KenpomStats/kenpom15.csv\")\n",
    "allKP16 = pd.read_csv(\"../data/AllTeams/KenpomStats/kenpom16.csv\")\n",
    "allKP17 = pd.read_csv(\"../data/AllTeams/KenpomStats/kenpom17.csv\")\n",
    "allKP18 = pd.read_csv(\"../data/AllTeams/KenpomStats/kenpom18.csv\")\n",
    "allKP19 = pd.read_csv(\"../data/AllTeams/KenpomStats/kenpom19.csv\")\n",
    "allKP21 = pd.read_csv(\"../data/AllTeams/KenpomStats/kenpom21.csv\")\n",
    "allKP22 = pd.read_csv(\"../data/AllTeams/KenpomStats/kenpom22.csv\")\n",
    "allKP23 = pd.read_csv(\"../data/AllTeams/KenpomStats/kenpom23.csv\")\n",
    "# allKP24 = pd.read_csv(\"../data/AllTeams/KenpomStats/kenpom24.csv\")\n",
    "\n",
    "trny14 = pd.read_csv(\"../data/TourneyTeams/SeedPlusFinish/seedPlusFinish14.csv\")\n",
    "trny15 = pd.read_csv(\"../data/TourneyTeams/SeedPlusFinish/seedPlusFinish15.csv\")\n",
    "trny16 = pd.read_csv(\"../data/TourneyTeams/SeedPlusFinish/seedPlusFinish16.csv\")\n",
    "trny17 = pd.read_csv(\"../data/TourneyTeams/SeedPlusFinish/seedPlusFinish17.csv\")\n",
    "trny18 = pd.read_csv(\"../data/TourneyTeams/SeedPlusFinish/seedPlusFinish18.csv\")\n",
    "trny19 = pd.read_csv(\"../data/TourneyTeams/SeedPlusFinish/seedPlusFinish19.csv\")\n",
    "trny21 = pd.read_csv(\"../data/TourneyTeams/SeedPlusFinish/seedPlusFinish21.csv\")\n",
    "trny22 = pd.read_csv(\"../data/TourneyTeams/SeedPlusFinish/seedPlusFinish22.csv\")\n",
    "trny23 = pd.read_csv(\"../data/TourneyTeams/SeedPlusFinish/seedPlusFinish23.csv\")\n",
    "# trny24 = pd.read_csv(\"../data/AllTeams/KenpomStats/kenpom24.csv\")"
   ]
  },
  {
   "cell_type": "code",
   "execution_count": 9,
   "metadata": {},
   "outputs": [],
   "source": [
    "merge = [\n",
    "    {\"left\": trny14, \"right\": allKP14, \"file\": \"../data/TourneyTeams/TourneyPlusKPStats/tourneyPlusKPStats14.csv\"},\n",
    "    {\"left\": trny15, \"right\": allKP15, \"file\": \"../data/TourneyTeams/TourneyPlusKPStats/tourneyPlusKPStats15.csv\"},\n",
    "    {\"left\": trny16, \"right\": allKP16, \"file\": \"../data/TourneyTeams/TourneyPlusKPStats/tourneyPlusKPStats16.csv\"},\n",
    "    {\"left\": trny17, \"right\": allKP17, \"file\": \"../data/TourneyTeams/TourneyPlusKPStats/tourneyPlusKPStats17.csv\"},\n",
    "    {\"left\": trny18, \"right\": allKP18, \"file\": \"../data/TourneyTeams/TourneyPlusKPStats/tourneyPlusKPStats18.csv\"},\n",
    "    {\"left\": trny19, \"right\": allKP19, \"file\": \"../data/TourneyTeams/TourneyPlusKPStats/tourneyPlusKPStats19.csv\"},\n",
    "    {\"left\": trny21, \"right\": allKP21, \"file\": \"../data/TourneyTeams/TourneyPlusKPStats/tourneyPlusKPStats21.csv\"},\n",
    "    {\"left\": trny22, \"right\": allKP22, \"file\": \"../data/TourneyTeams/TourneyPlusKPStats/tourneyPlusKPStats22.csv\"},\n",
    "    {\"left\": trny23, \"right\": allKP23, \"file\": \"../data/TourneyTeams/TourneyPlusKPStats/tourneyPlusKPStats23.csv\"},\n",
    "]\n",
    "\n",
    "for x in merge:\n",
    "    left = x[\"left\"]\n",
    "    right = x[\"right\"]\n",
    "    file = x[\"file\"]\n",
    "    \n",
    "    dfMerge = pd.merge(left, right, on=\"team\")\n",
    "    dfMerge.drop(columns=[\"year_y\", \"conf_y\", \"tourney_seed\"], inplace=True)\n",
    "    dfMerge.rename(columns={\"year_x\":\"year\", \"conf_x\":\"conf\", \"adj_eff_margin\": \"AEM\", \"adj_off_eff\": \"AOE\", \"adj_def_eff\": \"ADE\", \"adj_tempo\": \"ATMP\", \"sos_adj_eff_margin\": \"sosAEM\", \"opp_adj_off_eff\": \"opAOE\", \"opp_adj_def_eff\": \"opADE\", \"nc_sos_adj_eff_margin\": \"ncSosAEM\"}, inplace=True)\n",
    "    dfMerge.to_csv(file, index=False)"
   ]
  },
  {
   "cell_type": "code",
   "execution_count": null,
   "metadata": {},
   "outputs": [],
   "source": []
  }
 ],
 "metadata": {
  "kernelspec": {
   "display_name": ".venv",
   "language": "python",
   "name": "python3"
  },
  "language_info": {
   "codemirror_mode": {
    "name": "ipython",
    "version": 3
   },
   "file_extension": ".py",
   "mimetype": "text/x-python",
   "name": "python",
   "nbconvert_exporter": "python",
   "pygments_lexer": "ipython3",
   "version": "3.12.2"
  }
 },
 "nbformat": 4,
 "nbformat_minor": 2
}
