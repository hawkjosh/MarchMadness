{
 "cells": [
  {
   "cell_type": "code",
   "execution_count": 6,
   "metadata": {},
   "outputs": [],
   "source": [
    "import sys\n",
    "\n",
    "sys.path.append(\"../src\")\n",
    "\n",
    "import pandas as pd\n",
    "\n",
    "from dataScraping import dataScraper"
   ]
  },
  {
   "cell_type": "code",
   "execution_count": 2,
   "metadata": {},
   "outputs": [],
   "source": [
    "# Tables to scrape for 'Scoring' category stats\n",
    "dataTables = [\n",
    "    {\"endpoint\": \"points-per-game\", \"stat\": \"ptsPerGm\"},\n",
    "    {\"endpoint\": \"average-scoring-margin\", \"stat\": \"avgScrMargin\"},\n",
    "    {\"endpoint\": \"offensive-efficiency\", \"stat\": \"OffEff\"},\n",
    "    {\"endpoint\": \"floor-percentage\", \"stat\": \"floorPct\"},\n",
    "    {\"endpoint\": \"1st-half-points-per-game\", \"stat\": \"1stPts/Gm\"},\n",
    "    {\"endpoint\": \"2nd-half-points-per-game\", \"stat\": \"2HPts/Gm\"},\n",
    "    {\"endpoint\": \"overtime-points-per-game\", \"stat\": \"otPtsPerGm\"},\n",
    "    {\"endpoint\": \"average-1st-half-margin\", \"stat\": \"avg1stHalfMargin\"},\n",
    "    {\"endpoint\": \"average-2nd-half-margin\", \"stat\": \"avg2ndHalfMargin\"},\n",
    "    {\"endpoint\": \"average-overtime-margin\", \"stat\": \"avgOtMargin\"},\n",
    "    {\"endpoint\": \"points-from-2-pointers\", \"stat\": \"ptsFrom2pt\"},\n",
    "    {\"endpoint\": \"points-from-3-pointers\", \"stat\": \"ptsFrom3pt\"},\n",
    "    {\"endpoint\": \"percent-of-points-from-2-pointers\", \"stat\": \"ptsFrom2ptPct\"},\n",
    "    {\"endpoint\": \"percent-of-points-from-3-pointers\", \"stat\": \"ptsFrom3ptPct\"},\n",
    "    {\"endpoint\": \"percent-of-points-from-free-throws\", \"stat\": \"ptsFromFtPct\"},\n",
    "]"
   ]
  },
  {
   "cell_type": "code",
   "execution_count": null,
   "metadata": {},
   "outputs": [],
   "source": [
    "for table in dataTables:\n",
    "    dataScraper(\n",
    "        urlEndpoint=table[\"endpoint\"],\n",
    "        statName=table[\"stat\"],\n",
    "        category=\"Scoring\",\n",
    "    )"
   ]
  },
  {
   "cell_type": "code",
   "execution_count": null,
   "metadata": {},
   "outputs": [],
   "source": []
  },
  {
   "cell_type": "code",
   "execution_count": null,
   "metadata": {},
   "outputs": [],
   "source": []
  },
  {
   "cell_type": "code",
   "execution_count": null,
   "metadata": {},
   "outputs": [],
   "source": []
  },
  {
   "cell_type": "code",
   "execution_count": null,
   "metadata": {},
   "outputs": [],
   "source": []
  },
  {
   "cell_type": "code",
   "execution_count": null,
   "metadata": {},
   "outputs": [],
   "source": []
  },
  {
   "cell_type": "code",
   "execution_count": null,
   "metadata": {},
   "outputs": [],
   "source": [
    "# Tables to scrape for 'Shooting' category stats\n",
    "dataTables = [\n",
    "    {\"endpoint\": \"\", \"stat\": \"\"},\n",
    "    {\"endpoint\": \"\", \"stat\": \"\"},\n",
    "    {\"endpoint\": \"\", \"stat\": \"\"},\n",
    "    {\"endpoint\": \"\", \"stat\": \"\"},\n",
    "    {\"endpoint\": \"\", \"stat\": \"\"},\n",
    "    {\"endpoint\": \"\", \"stat\": \"\"},\n",
    "    {\"endpoint\": \"\", \"stat\": \"\"},\n",
    "    {\"endpoint\": \"\", \"stat\": \"\"},\n",
    "    {\"endpoint\": \"\", \"stat\": \"\"},\n",
    "    {\"endpoint\": \"\", \"stat\": \"\"},\n",
    "    {\"endpoint\": \"\", \"stat\": \"\"},\n",
    "    {\"endpoint\": \"\", \"stat\": \"\"},\n",
    "    {\"endpoint\": \"\", \"stat\": \"\"},\n",
    "    {\"endpoint\": \"\", \"stat\": \"\"},\n",
    "    {\"endpoint\": \"\", \"stat\": \"\"},\n",
    "    {\"endpoint\": \"\", \"stat\": \"\"},\n",
    "    {\"endpoint\": \"\", \"stat\": \"\"},\n",
    "    {\"endpoint\": \"\", \"stat\": \"\"},\n",
    "]"
   ]
  },
  {
   "cell_type": "code",
   "execution_count": null,
   "metadata": {},
   "outputs": [],
   "source": [
    "for table in dataTables:\n",
    "    dataScraper(\n",
    "        urlEndpoint=table[\"endpoint\"],\n",
    "        statName=table[\"stat\"],\n",
    "        category=\"Shooting\",\n",
    "    )"
   ]
  },
  {
   "cell_type": "code",
   "execution_count": null,
   "metadata": {},
   "outputs": [],
   "source": [
    "# Tables to scrape for 'Rebounding' category stats\n",
    "dataTables = [\n",
    "    {\"endpoint\": \"\", \"stat\": \"\"},\n",
    "    {\"endpoint\": \"\", \"stat\": \"\"},\n",
    "    {\"endpoint\": \"\", \"stat\": \"\"},\n",
    "    {\"endpoint\": \"\", \"stat\": \"\"},\n",
    "    {\"endpoint\": \"\", \"stat\": \"\"},\n",
    "    {\"endpoint\": \"\", \"stat\": \"\"},\n",
    "    {\"endpoint\": \"\", \"stat\": \"\"},\n",
    "]"
   ]
  },
  {
   "cell_type": "code",
   "execution_count": null,
   "metadata": {},
   "outputs": [],
   "source": [
    "for table in dataTables:\n",
    "    dataScraper(\n",
    "        urlEndpoint=table[\"endpoint\"],\n",
    "        statName=table[\"stat\"],\n",
    "        category=\"Rebounding\",\n",
    "    )"
   ]
  },
  {
   "cell_type": "code",
   "execution_count": null,
   "metadata": {},
   "outputs": [],
   "source": [
    "# Tables to scrape for 'Blocks & Steals' category stats\n",
    "dataTables = [\n",
    "    {\"endpoint\": \"\", \"stat\": \"\"},\n",
    "    {\"endpoint\": \"\", \"stat\": \"\"},\n",
    "    {\"endpoint\": \"\", \"stat\": \"\"},\n",
    "    {\"endpoint\": \"\", \"stat\": \"\"},\n",
    "    {\"endpoint\": \"\", \"stat\": \"\"},\n",
    "]"
   ]
  },
  {
   "cell_type": "code",
   "execution_count": null,
   "metadata": {},
   "outputs": [],
   "source": [
    "for table in dataTables:\n",
    "    dataScraper(\n",
    "        urlEndpoint=table[\"endpoint\"],\n",
    "        statName=table[\"stat\"],\n",
    "        category=\"BlocksAndSteals\",\n",
    "    )"
   ]
  },
  {
   "cell_type": "code",
   "execution_count": null,
   "metadata": {},
   "outputs": [],
   "source": [
    "# Tables to scrape for 'Assists & Turnovers' category stats\n",
    "dataTables = [\n",
    "    {\"endpoint\": \"\", \"stat\": \"\"},\n",
    "    {\"endpoint\": \"\", \"stat\": \"\"},\n",
    "    {\"endpoint\": \"\", \"stat\": \"\"},\n",
    "    {\"endpoint\": \"\", \"stat\": \"\"},\n",
    "    {\"endpoint\": \"\", \"stat\": \"\"},\n",
    "    {\"endpoint\": \"\", \"stat\": \"\"},\n",
    "    {\"endpoint\": \"\", \"stat\": \"\"},\n",
    "]"
   ]
  },
  {
   "cell_type": "code",
   "execution_count": null,
   "metadata": {},
   "outputs": [],
   "source": [
    "for table in dataTables:\n",
    "    dataScraper(\n",
    "        urlEndpoint=table[\"endpoint\"],\n",
    "        statName=table[\"stat\"],\n",
    "        category=\"AssistsAndTurnovers\",\n",
    "    )"
   ]
  }
 ],
 "metadata": {
  "kernelspec": {
   "display_name": "myenv",
   "language": "python",
   "name": "myenv"
  },
  "language_info": {
   "codemirror_mode": {
    "name": "ipython",
    "version": 3
   },
   "file_extension": ".py",
   "mimetype": "text/x-python",
   "name": "python",
   "nbconvert_exporter": "python",
   "pygments_lexer": "ipython3",
   "version": "3.12.2"
  }
 },
 "nbformat": 4,
 "nbformat_minor": 2
}
