{
 "cells": [
  {
   "cell_type": "code",
   "execution_count": 1,
   "metadata": {},
   "outputs": [],
   "source": [
    "import sys\n",
    "\n",
    "sys.path.append(\"../src\")\n",
    "\n",
    "from statScraper import scrapeStats"
   ]
  },
  {
   "cell_type": "code",
   "execution_count": null,
   "metadata": {},
   "outputs": [],
   "source": [
    "tablesToScrape = [ \n",
    "  { \"urlId\": \"\", \"colHeads\": { \"team\": 1, }, \"outputFileName\": \"1_winning_percentage\" },\n",
    "  { \"urlId\": \"1288\", \"colHeads\": { \"team\": 1, \"fg_made\": 3, \"3pt_made\": 4, \"fg_att\": 5, \"efg_pct\": 6 }, \"outputFileName\": \"2_effective_field_goal_percentage\" },\n",
    "  # { \"urlId\": \"145\", \"colHeads\": { \"team\": 1, \"pts\": 3, \"pts_perGm\": 4 }, \"outputFileName\": \"3_scoring_offense\" },\n",
    "  { \"urlId\": \"\", \"colHeads\": { \"team\": 1, }, \"outputFileName\": \"_field_goal_percentage\" },\n",
    "  { \"urlId\": \"\", \"colHeads\": { \"team\": 1, }, \"outputFileName\": \"_three_pointers_per_game\" },\n",
    "  { \"urlId\": \"\", \"colHeads\": { \"team\": 1, }, \"outputFileName\": \"_three_point_attempts_per_game\" },\n",
    "  { \"urlId\": \"\", \"colHeads\": { \"team\": 1, }, \"outputFileName\": \"_three_point_percentage\" },\n",
    "  { \"urlId\": \"\", \"colHeads\": { \"team\": 1, }, \"outputFileName\": \"_free_throw_attempts_per_game\" },\n",
    "  { \"urlId\": \"\", \"colHeads\": { \"team\": 1, }, \"outputFileName\": \"_free_throws_made_per_game\" },\n",
    "  { \"urlId\": \"\", \"colHeads\": { \"team\": 1, }, \"outputFileName\": \"_free_throw_percentage\" },\n",
    "  { \"urlId\": \"\", \"colHeads\": { \"team\": 1, }, \"outputFileName\": \"_bench_points_per_game\" },\n",
    "  { \"urlId\": \"\", \"colHeads\": { \"team\": 1, }, \"outputFileName\": \"_fastbreak_points_per_game\" },\n",
    "  { \"urlId\": \"\", \"colHeads\": { \"team\": 1, }, \"outputFileName\": \"_rebounds_per_game_offense\" },\n",
    "  # { \"urlId\": \"216\", \"colHeads\": { \"team\": 1, \"ast_perGm\": 4 }, \"outputFileName\": \"_assists_per_game\" },\n",
    "  # { \"urlId\": \"217\", \"colHeads\": { \"team\": 1, \"tov_perGm\": 4 }, \"outputFileName\": \"_turnovers_per_game\" },\n",
    "  # { \"urlId\": \"474\", \"colHeads\": { \"team\": 1, \"gms\": 2, \"ast\": 3, \"tov\": 4:, \"ast_tov_ratio\": 5 }, \"outputFileName\": \"_assist_turnover_ratio\" },\n",
    "  { \"urlId\": \"\", \"colHeads\": { \"team\": 1, }, \"outputFileName\": \"_scoring_defense\" },\n",
    "  { \"urlId\": \"\", \"colHeads\": { \"team\": 1, }, \"outputFileName\": \"_field_goal_percentage_defense\" },\n",
    "  { \"urlId\": \"\", \"colHeads\": { \"team\": 1, }, \"outputFileName\": \"_three_point_percentage_defense\" },\n",
    "  # { \"urlId\": \"931\", \"colHeads\": { \"team\": 1, \"tov_perGm_opp\": 4 }, \"outputFileName\": \"_turnovers_forced_per_game\" },\n",
    "  { \"urlId\": \"\", \"colHeads\": { \"team\": 1, }, \"outputFileName\": \"_blocks_per_game\" },\n",
    "  { \"urlId\": \"\", \"colHeads\": { \"team\": 1, }, \"outputFileName\": \"_steals_per_game\" },\n",
    "  { \"urlId\": \"\", \"colHeads\": { \"team\": 1, }, \"outputFileName\": \"_rebounds_per_game_defense\" },\n",
    "  { \"urlId\": \"\", \"colHeads\": { \"team\": 1, }, \"outputFileName\": \"_fouls_per_game\" },\n",
    "  { \"urlId\": \"\", \"colHeads\": { \"team\": 1, }, \"outputFileName\": \"_scoring_margin\" },\n",
    "  { \"urlId\": \"\", \"colHeads\": { \"team\": 1, }, \"outputFileName\": \"_rebound_margin\" },\n",
    "  # { \"urlId\": \"519\", \"colHeads\": { \"team\": 1, \"tov_opp\": 3, \"tov_ratio\": 5 }, \"outputFileName\": \"_turnover_margin\" }\n",
    "]"
   ]
  }
 ],
 "metadata": {
  "kernelspec": {
   "display_name": "myenv",
   "language": "python",
   "name": "myenv"
  },
  "language_info": {
   "codemirror_mode": {
    "name": "ipython",
    "version": 3
   },
   "file_extension": ".py",
   "mimetype": "text/x-python",
   "name": "python",
   "nbconvert_exporter": "python",
   "pygments_lexer": "ipython3",
   "version": "3.12.2"
  }
 },
 "nbformat": 4,
 "nbformat_minor": 2
}
