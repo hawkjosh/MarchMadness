{
 "cells": [
  {
   "cell_type": "code",
   "execution_count": 140,
   "metadata": {},
   "outputs": [],
   "source": [
    "import pandas as pd\n",
    "from functools import reduce\n",
    "\n",
    "from scraper import scrapeStats"
   ]
  },
  {
   "cell_type": "code",
   "execution_count": 141,
   "metadata": {},
   "outputs": [],
   "source": [
    "urlId = \"168\" # winning percentage\n",
    "columnHeaders = {\n",
    "    \"team\": 1,\n",
    "    \"wins\": 2,\n",
    "    \"losses\": 3,\n",
    "    \"win%\": 4\n",
    "}\n",
    "outputFileName = \"27_mbbCurr_winning_percentage.csv\"\n",
    "\n",
    "scrapeStats(urlId, columnHeaders, outputFileName)"
   ]
  },
  {
   "cell_type": "code",
   "execution_count": 142,
   "metadata": {},
   "outputs": [],
   "source": [
    "df1 = pd.read_csv(\"1_mbbCurr_assist_turnover_ratio.csv\")"
   ]
  },
  {
   "cell_type": "code",
   "execution_count": 143,
   "metadata": {},
   "outputs": [],
   "source": [
    "df2 = pd.read_csv(\"2_mbbCurr_assists_per_game.csv\")"
   ]
  },
  {
   "cell_type": "code",
   "execution_count": 144,
   "metadata": {},
   "outputs": [],
   "source": [
    "df3 = pd.read_csv(\"3_mbbCurr_bench_points_per_game.csv\")"
   ]
  },
  {
   "cell_type": "code",
   "execution_count": 145,
   "metadata": {},
   "outputs": [],
   "source": [
    "df4 = pd.read_csv(\"4_mbbCurr_blocks_per_game.csv\")"
   ]
  },
  {
   "cell_type": "code",
   "execution_count": 146,
   "metadata": {},
   "outputs": [],
   "source": [
    "df5 = pd.read_csv(\"5_mbbCurr_effective_field_goal_percentage.csv\")"
   ]
  },
  {
   "cell_type": "code",
   "execution_count": 147,
   "metadata": {},
   "outputs": [],
   "source": [
    "df6 = pd.read_csv(\"6_mbbCurr_fastbreak_points_per_game.csv\")"
   ]
  },
  {
   "cell_type": "code",
   "execution_count": 148,
   "metadata": {},
   "outputs": [],
   "source": [
    "df7 = pd.read_csv(\"7_mbbCurr_field_goal_percentage.csv\")"
   ]
  },
  {
   "cell_type": "code",
   "execution_count": 149,
   "metadata": {},
   "outputs": [],
   "source": [
    "df8 = pd.read_csv(\"8_mbbCurr_field_goal_percentage_defense.csv\")"
   ]
  },
  {
   "cell_type": "code",
   "execution_count": 150,
   "metadata": {},
   "outputs": [],
   "source": [
    "df9 = pd.read_csv(\"9_mbbCurr_fouls_per_game.csv\")"
   ]
  },
  {
   "cell_type": "code",
   "execution_count": 151,
   "metadata": {},
   "outputs": [],
   "source": [
    "df10 = pd.read_csv(\"10_mbbCurr_free_throw_attempts_per_game.csv\")"
   ]
  },
  {
   "cell_type": "code",
   "execution_count": 152,
   "metadata": {},
   "outputs": [],
   "source": [
    "df11 = pd.read_csv(\"11_mbbCurr_free_throw_percentage.csv\")"
   ]
  },
  {
   "cell_type": "code",
   "execution_count": 153,
   "metadata": {},
   "outputs": [],
   "source": [
    "df12 = pd.read_csv(\"12_mbbCurr_free_throws_made_per_game.csv\")"
   ]
  },
  {
   "cell_type": "code",
   "execution_count": 154,
   "metadata": {},
   "outputs": [],
   "source": [
    "df13 = pd.read_csv(\"13_mbbCurr_rebound_margin.csv\")"
   ]
  },
  {
   "cell_type": "code",
   "execution_count": 155,
   "metadata": {},
   "outputs": [],
   "source": [
    "df14 = pd.read_csv(\"14_mbbCurr_rebounds_per_game_defense.csv\")"
   ]
  },
  {
   "cell_type": "code",
   "execution_count": 156,
   "metadata": {},
   "outputs": [],
   "source": [
    "df15 = pd.read_csv(\"15_mbbCurr_rebounds_per_game_offense.csv\")"
   ]
  },
  {
   "cell_type": "code",
   "execution_count": 157,
   "metadata": {},
   "outputs": [],
   "source": [
    "df16 = pd.read_csv(\"16_mbbCurr_scoring_defense.csv\")"
   ]
  },
  {
   "cell_type": "code",
   "execution_count": 158,
   "metadata": {},
   "outputs": [],
   "source": [
    "df17 = pd.read_csv(\"17_mbbCurr_scoring_margin.csv\")"
   ]
  },
  {
   "cell_type": "code",
   "execution_count": 159,
   "metadata": {},
   "outputs": [],
   "source": [
    "df18 = pd.read_csv(\"18_mbbCurr_scoring_offense.csv\")"
   ]
  },
  {
   "cell_type": "code",
   "execution_count": 160,
   "metadata": {},
   "outputs": [],
   "source": [
    "df19 = pd.read_csv(\"19_mbbCurr_steals_per_game.csv\")"
   ]
  },
  {
   "cell_type": "code",
   "execution_count": 161,
   "metadata": {},
   "outputs": [],
   "source": [
    "df20 = pd.read_csv(\"20_mbbCurr_three_point_attempts_per_game.csv\")"
   ]
  },
  {
   "cell_type": "code",
   "execution_count": 162,
   "metadata": {},
   "outputs": [],
   "source": [
    "df21 = pd.read_csv(\"21_mbbCurr_three_point_percentage.csv\")"
   ]
  },
  {
   "cell_type": "code",
   "execution_count": 163,
   "metadata": {},
   "outputs": [],
   "source": [
    "df22 = pd.read_csv(\"22_mbbCurr_three_point_percentage_defense.csv\")"
   ]
  },
  {
   "cell_type": "code",
   "execution_count": 164,
   "metadata": {},
   "outputs": [],
   "source": [
    "df23 = pd.read_csv(\"23_mbbCurr_three_pointers_per_game.csv\")"
   ]
  },
  {
   "cell_type": "code",
   "execution_count": 165,
   "metadata": {},
   "outputs": [],
   "source": [
    "df24 = pd.read_csv(\"24_mbbCurr_turnover_margin.csv\")"
   ]
  },
  {
   "cell_type": "code",
   "execution_count": 166,
   "metadata": {},
   "outputs": [],
   "source": [
    "df25 = pd.read_csv(\"25_mbbCurr_turnovers_forced_per_game.csv\")"
   ]
  },
  {
   "cell_type": "code",
   "execution_count": 167,
   "metadata": {},
   "outputs": [],
   "source": [
    "df26 = pd.read_csv(\"26_mbbCurr_turnovers_per_game.csv\")"
   ]
  },
  {
   "cell_type": "code",
   "execution_count": 168,
   "metadata": {},
   "outputs": [],
   "source": [
    "df27 = pd.read_csv(\"27_mbbCurr_winning_percentage.csv\")"
   ]
  },
  {
   "cell_type": "code",
   "execution_count": 169,
   "metadata": {},
   "outputs": [],
   "source": [
    "dataframes = [df1, df2, df3, df4, df5, df6, df7, df8, df9, df10, df11, df12, df13, df14, df15, df16, df17, df18, df19, df20, df21, df22, df23, df24, df25, df26, df27]"
   ]
  },
  {
   "cell_type": "code",
   "execution_count": 170,
   "metadata": {},
   "outputs": [],
   "source": [
    "allStats = reduce(\n",
    "    lambda left, right: pd.merge(left, right, on=\"team\"), dataframes\n",
    ")"
   ]
  },
  {
   "cell_type": "code",
   "execution_count": 171,
   "metadata": {},
   "outputs": [],
   "source": [
    "allStats.to_csv(\"mbbCurrStats.csv\", index=False)"
   ]
  },
  {
   "cell_type": "code",
   "execution_count": 172,
   "metadata": {},
   "outputs": [
    {
     "data": {
      "text/html": [
       "<div>\n",
       "<style scoped>\n",
       "    .dataframe tbody tr th:only-of-type {\n",
       "        vertical-align: middle;\n",
       "    }\n",
       "\n",
       "    .dataframe tbody tr th {\n",
       "        vertical-align: top;\n",
       "    }\n",
       "\n",
       "    .dataframe thead th {\n",
       "        text-align: right;\n",
       "    }\n",
       "</style>\n",
       "<table border=\"1\" class=\"dataframe\">\n",
       "  <thead>\n",
       "    <tr style=\"text-align: right;\">\n",
       "      <th></th>\n",
       "      <th>team</th>\n",
       "      <th>games</th>\n",
       "      <th>assists</th>\n",
       "      <th>turnovers</th>\n",
       "      <th>ratio</th>\n",
       "      <th>assistsPerGame</th>\n",
       "      <th>benchPoints</th>\n",
       "      <th>benchPointsPerGame</th>\n",
       "      <th>blocks</th>\n",
       "      <th>blocksPerGame</th>\n",
       "      <th>...</th>\n",
       "      <th>opp3ptFgMade</th>\n",
       "      <th>opp3ptFg%</th>\n",
       "      <th>3ptFgPerGame</th>\n",
       "      <th>oppTurnovers</th>\n",
       "      <th>turnoverMargin</th>\n",
       "      <th>oppTurnoverAvg</th>\n",
       "      <th>turnoversPerGame</th>\n",
       "      <th>wins</th>\n",
       "      <th>losses</th>\n",
       "      <th>win%</th>\n",
       "    </tr>\n",
       "  </thead>\n",
       "  <tbody>\n",
       "    <tr>\n",
       "      <th>0</th>\n",
       "      <td>Virginia</td>\n",
       "      <td>28</td>\n",
       "      <td>424</td>\n",
       "      <td>232</td>\n",
       "      <td>1.83</td>\n",
       "      <td>15.1</td>\n",
       "      <td>505</td>\n",
       "      <td>18.04</td>\n",
       "      <td>146</td>\n",
       "      <td>5.2</td>\n",
       "      <td>...</td>\n",
       "      <td>186</td>\n",
       "      <td>31.4</td>\n",
       "      <td>6.2</td>\n",
       "      <td>354</td>\n",
       "      <td>4.4</td>\n",
       "      <td>12.64</td>\n",
       "      <td>8.3</td>\n",
       "      <td>20</td>\n",
       "      <td>8</td>\n",
       "      <td>71.4</td>\n",
       "    </tr>\n",
       "    <tr>\n",
       "      <th>1</th>\n",
       "      <td>Colorado St.</td>\n",
       "      <td>28</td>\n",
       "      <td>527</td>\n",
       "      <td>290</td>\n",
       "      <td>1.82</td>\n",
       "      <td>18.8</td>\n",
       "      <td>501</td>\n",
       "      <td>17.89</td>\n",
       "      <td>87</td>\n",
       "      <td>3.1</td>\n",
       "      <td>...</td>\n",
       "      <td>177</td>\n",
       "      <td>32.7</td>\n",
       "      <td>7.8</td>\n",
       "      <td>344</td>\n",
       "      <td>1.9</td>\n",
       "      <td>12.29</td>\n",
       "      <td>10.4</td>\n",
       "      <td>20</td>\n",
       "      <td>8</td>\n",
       "      <td>71.4</td>\n",
       "    </tr>\n",
       "    <tr>\n",
       "      <th>2</th>\n",
       "      <td>BYU</td>\n",
       "      <td>27</td>\n",
       "      <td>517</td>\n",
       "      <td>287</td>\n",
       "      <td>1.80</td>\n",
       "      <td>19.1</td>\n",
       "      <td>869</td>\n",
       "      <td>32.19</td>\n",
       "      <td>75</td>\n",
       "      <td>2.8</td>\n",
       "      <td>...</td>\n",
       "      <td>170</td>\n",
       "      <td>30.8</td>\n",
       "      <td>11.4</td>\n",
       "      <td>313</td>\n",
       "      <td>1.0</td>\n",
       "      <td>11.59</td>\n",
       "      <td>10.6</td>\n",
       "      <td>19</td>\n",
       "      <td>8</td>\n",
       "      <td>70.4</td>\n",
       "    </tr>\n",
       "    <tr>\n",
       "      <th>3</th>\n",
       "      <td>Northwestern</td>\n",
       "      <td>27</td>\n",
       "      <td>431</td>\n",
       "      <td>241</td>\n",
       "      <td>1.79</td>\n",
       "      <td>16.0</td>\n",
       "      <td>336</td>\n",
       "      <td>12.44</td>\n",
       "      <td>92</td>\n",
       "      <td>3.4</td>\n",
       "      <td>...</td>\n",
       "      <td>191</td>\n",
       "      <td>36.6</td>\n",
       "      <td>8.5</td>\n",
       "      <td>354</td>\n",
       "      <td>4.2</td>\n",
       "      <td>13.11</td>\n",
       "      <td>8.9</td>\n",
       "      <td>19</td>\n",
       "      <td>8</td>\n",
       "      <td>70.4</td>\n",
       "    </tr>\n",
       "    <tr>\n",
       "      <th>4</th>\n",
       "      <td>Iowa</td>\n",
       "      <td>28</td>\n",
       "      <td>488</td>\n",
       "      <td>275</td>\n",
       "      <td>1.77</td>\n",
       "      <td>17.4</td>\n",
       "      <td>525</td>\n",
       "      <td>18.75</td>\n",
       "      <td>107</td>\n",
       "      <td>3.8</td>\n",
       "      <td>...</td>\n",
       "      <td>222</td>\n",
       "      <td>35.5</td>\n",
       "      <td>6.2</td>\n",
       "      <td>344</td>\n",
       "      <td>2.5</td>\n",
       "      <td>12.29</td>\n",
       "      <td>9.8</td>\n",
       "      <td>16</td>\n",
       "      <td>12</td>\n",
       "      <td>57.1</td>\n",
       "    </tr>\n",
       "  </tbody>\n",
       "</table>\n",
       "<p>5 rows × 58 columns</p>\n",
       "</div>"
      ],
      "text/plain": [
       "           team  games  assists  turnovers  ratio  assistsPerGame  \\\n",
       "0      Virginia     28      424        232   1.83            15.1   \n",
       "1  Colorado St.     28      527        290   1.82            18.8   \n",
       "2           BYU     27      517        287   1.80            19.1   \n",
       "3  Northwestern     27      431        241   1.79            16.0   \n",
       "4          Iowa     28      488        275   1.77            17.4   \n",
       "\n",
       "   benchPoints  benchPointsPerGame  blocks  blocksPerGame  ...  opp3ptFgMade  \\\n",
       "0          505               18.04     146            5.2  ...           186   \n",
       "1          501               17.89      87            3.1  ...           177   \n",
       "2          869               32.19      75            2.8  ...           170   \n",
       "3          336               12.44      92            3.4  ...           191   \n",
       "4          525               18.75     107            3.8  ...           222   \n",
       "\n",
       "   opp3ptFg%  3ptFgPerGame  oppTurnovers  turnoverMargin  oppTurnoverAvg  \\\n",
       "0       31.4           6.2           354             4.4           12.64   \n",
       "1       32.7           7.8           344             1.9           12.29   \n",
       "2       30.8          11.4           313             1.0           11.59   \n",
       "3       36.6           8.5           354             4.2           13.11   \n",
       "4       35.5           6.2           344             2.5           12.29   \n",
       "\n",
       "   turnoversPerGame  wins  losses  win%  \n",
       "0               8.3    20       8  71.4  \n",
       "1              10.4    20       8  71.4  \n",
       "2              10.6    19       8  70.4  \n",
       "3               8.9    19       8  70.4  \n",
       "4               9.8    16      12  57.1  \n",
       "\n",
       "[5 rows x 58 columns]"
      ]
     },
     "execution_count": 172,
     "metadata": {},
     "output_type": "execute_result"
    }
   ],
   "source": [
    "allStats.head()"
   ]
  },
  {
   "cell_type": "code",
   "execution_count": 173,
   "metadata": {},
   "outputs": [
    {
     "name": "stdout",
     "output_type": "stream",
     "text": [
      "<class 'pandas.core.frame.DataFrame'>\n",
      "RangeIndex: 351 entries, 0 to 350\n",
      "Data columns (total 58 columns):\n",
      " #   Column                  Non-Null Count  Dtype  \n",
      "---  ------                  --------------  -----  \n",
      " 0   team                    351 non-null    object \n",
      " 1   games                   351 non-null    int64  \n",
      " 2   assists                 351 non-null    int64  \n",
      " 3   turnovers               351 non-null    int64  \n",
      " 4   ratio                   351 non-null    float64\n",
      " 5   assistsPerGame          351 non-null    float64\n",
      " 6   benchPoints             351 non-null    int64  \n",
      " 7   benchPointsPerGame      351 non-null    float64\n",
      " 8   blocks                  351 non-null    int64  \n",
      " 9   blocksPerGame           351 non-null    float64\n",
      " 10  fgMade                  351 non-null    int64  \n",
      " 11  3ptFg                   351 non-null    int64  \n",
      " 12  fgAttempted             351 non-null    int64  \n",
      " 13  effectiveFgPct          351 non-null    float64\n",
      " 14  fastbreakPoints         351 non-null    int64  \n",
      " 15  fastbreakPointsPerGame  351 non-null    float64\n",
      " 16  fg%                     351 non-null    float64\n",
      " 17  oppFgMade               351 non-null    int64  \n",
      " 18  oppFgAtt                351 non-null    int64  \n",
      " 19  oppFgPct                351 non-null    float64\n",
      " 20  fouls                   351 non-null    int64  \n",
      " 21  pfPerGame               351 non-null    float64\n",
      " 22  dq                      351 non-null    int64  \n",
      " 23  freeThrows              351 non-null    int64  \n",
      " 24  freeThrowAttempts       351 non-null    int64  \n",
      " 25  freeThrowAttAvg         351 non-null    float64\n",
      " 26  freeThrow%              351 non-null    float64\n",
      " 27  freeThrowMadeAvg        351 non-null    float64\n",
      " 28  rebounds                351 non-null    int64  \n",
      " 29  reboundsPerGame         351 non-null    float64\n",
      " 30  oppRebounds             351 non-null    int64  \n",
      " 31  oppReboundsPerGame      351 non-null    float64\n",
      " 32  reboundMargin           351 non-null    int64  \n",
      " 33  defRebs                 351 non-null    int64  \n",
      " 34  defRebsPerGame          351 non-null    float64\n",
      " 35  offRebs                 351 non-null    int64  \n",
      " 36  offRebsPerGame          351 non-null    float64\n",
      " 37  oppPts                  351 non-null    int64  \n",
      " 38  oppPtsPerGame           351 non-null    float64\n",
      " 39  scoringMargin           351 non-null    int64  \n",
      " 40  pts                     351 non-null    int64  \n",
      " 41  ptsPerGame              351 non-null    float64\n",
      " 42  steals                  351 non-null    int64  \n",
      " 43  stealsPerGame           351 non-null    float64\n",
      " 44  3ptFgAtt                351 non-null    int64  \n",
      " 45  3ptFgAttAvg             351 non-null    float64\n",
      " 46  3ptFg%                  351 non-null    float64\n",
      " 47  opp3ptFgAtt             351 non-null    int64  \n",
      " 48  opp3ptFgMade            351 non-null    int64  \n",
      " 49  opp3ptFg%               351 non-null    float64\n",
      " 50  3ptFgPerGame            351 non-null    float64\n",
      " 51  oppTurnovers            351 non-null    int64  \n",
      " 52  turnoverMargin          351 non-null    float64\n",
      " 53  oppTurnoverAvg          351 non-null    float64\n",
      " 54  turnoversPerGame        351 non-null    float64\n",
      " 55  wins                    351 non-null    int64  \n",
      " 56  losses                  351 non-null    int64  \n",
      " 57  win%                    351 non-null    float64\n",
      "dtypes: float64(27), int64(30), object(1)\n",
      "memory usage: 159.2+ KB\n"
     ]
    }
   ],
   "source": [
    "allStats.info()"
   ]
  },
  {
   "cell_type": "code",
   "execution_count": null,
   "metadata": {},
   "outputs": [],
   "source": []
  }
 ],
 "metadata": {
  "kernelspec": {
   "display_name": "myenv",
   "language": "python",
   "name": "myenv"
  },
  "language_info": {
   "codemirror_mode": {
    "name": "ipython",
    "version": 3
   },
   "file_extension": ".py",
   "mimetype": "text/x-python",
   "name": "python",
   "nbconvert_exporter": "python",
   "pygments_lexer": "ipython3",
   "version": "3.12.2"
  }
 },
 "nbformat": 4,
 "nbformat_minor": 2
}
